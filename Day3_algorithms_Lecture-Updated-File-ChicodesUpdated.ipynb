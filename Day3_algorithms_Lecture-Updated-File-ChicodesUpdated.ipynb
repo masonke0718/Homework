{
 "cells": [
  {
   "cell_type": "markdown",
   "metadata": {},
   "source": [
    "# Algorithms, Binary Search & Linked Lists"
   ]
  },
  {
   "cell_type": "markdown",
   "metadata": {},
   "source": [
    "## Tasks Today:\n",
    " \n",
    "1) <b>In-Place Algorithms</b> <br>\n",
    " &nbsp;&nbsp;&nbsp;&nbsp; a) Syntax <br>\n",
    " &nbsp;&nbsp;&nbsp;&nbsp; a) Out of Place Algorithm <br>\n",
    " &nbsp;&nbsp;&nbsp;&nbsp; b) In-Class Exercise #1 <br>\n",
    "2) <b>Two Pointers</b> <br>\n",
    "3) <b>Linked Lists</b> <br>\n",
    "4) <b>Merge Sort</b> <br>\n",
    " &nbsp;&nbsp;&nbsp;&nbsp; a) Video on Algorithms <br>\n",
    " &nbsp;&nbsp;&nbsp;&nbsp; b) How it Works <br>\n",
    "5) <b>Exercises</b> <br>\n",
    " &nbsp;&nbsp;&nbsp;&nbsp; a) Exercise #1 - Reverse a List in Place Using an In-Place Algorithm <br>\n",
    " &nbsp;&nbsp;&nbsp;&nbsp; b) Exercise #2 - Find Distinct Words <br>\n",
    " &nbsp;&nbsp;&nbsp;&nbsp; c) Exercise #3 - Write a program to implement a Linear Search Algorithm. <br>"
   ]
  },
  {
   "cell_type": "markdown",
   "metadata": {},
   "source": [
    "## In-Place Algorithms"
   ]
  },
  {
   "cell_type": "markdown",
   "metadata": {},
   "source": [
    "#### Syntax"
   ]
  },
  {
   "cell_type": "code",
   "execution_count": 13,
   "metadata": {},
   "outputs": [
    {
     "name": "stdout",
     "output_type": "stream",
     "text": [
      "Before swap: [20, 4, 10]\n"
     ]
    },
    {
     "data": {
      "text/plain": [
       "[10, 4, 20]"
      ]
     },
     "execution_count": 13,
     "metadata": {},
     "output_type": "execute_result"
    }
   ],
   "source": [
    "# var[i],var[i + 1] = var[i + 1], var[i]\n",
    "# Sometimes known as a swap algorithm\n",
    "\n",
    "def swap(alist,x,y,z):\n",
    "    alist[x],alist[y],alist[z] = alist[z],alist[y],alist[x]\n",
    "    return alist\n",
    "\n",
    "my_list = [20,4,10]\n",
    "print(f\"Before swap: {my_list}\")\n",
    "\n",
    "swap(my_list,0,1,2)\n",
    "#swap(my_list,2,1,0)\n",
    "#print(f\"AFTER swap: {my_list}\")\n"
   ]
  },
  {
   "cell_type": "markdown",
   "metadata": {},
   "source": [
    "#### Out of Place Algorithm"
   ]
  },
  {
   "cell_type": "code",
   "execution_count": 15,
   "metadata": {},
   "outputs": [
    {
     "data": {
      "text/plain": [
       "[20, 4, 10]"
      ]
     },
     "execution_count": 15,
     "metadata": {},
     "output_type": "execute_result"
    }
   ],
   "source": [
    "# not swapping, but rather reversing completely\n",
    "# BUT also copies to another place in memory\n",
    "my_list[::-1]\n"
   ]
  },
  {
   "cell_type": "markdown",
   "metadata": {},
   "source": [
    "#### In-Class Exercise #1 <br>\n",
    "<p>Write a function that takes in four arguments (list, index1, index2, index3), and swaps those three positions in the list passed in.</p>"
   ]
  },
  {
   "cell_type": "code",
   "execution_count": 17,
   "metadata": {},
   "outputs": [
    {
     "data": {
      "text/plain": [
       "[3, 4, 10, 8, 4, 2, 6]"
      ]
     },
     "execution_count": 17,
     "metadata": {},
     "output_type": "execute_result"
    }
   ],
   "source": [
    "l_1 = [10, 4, 3, 8, 4, 2, 6]\n",
    "\n",
    "def swap(blist,x,y,z):\n",
    "    blist[x],blist[y],blist[z] = blist[z],blist[y],blist[x]\n",
    "    return blist\n",
    "swap(l_1,0,1,2)\n"
   ]
  },
  {
   "cell_type": "markdown",
   "metadata": {},
   "source": [
    "## Two Pointers"
   ]
  },
  {
   "cell_type": "markdown",
   "metadata": {},
   "source": [
    "#### Syntax"
   ]
  },
  {
   "cell_type": "code",
   "execution_count": 18,
   "metadata": {},
   "outputs": [
    {
     "data": {
      "text/plain": [
       "[22, 11, 4, 8, 9, 12, 3, 2, 1]"
      ]
     },
     "execution_count": 18,
     "metadata": {},
     "output_type": "execute_result"
    }
   ],
   "source": [
    "# alist[left], alist[right] = alist[right],alist[left]\n",
    "#use two pointers to swap, can use a while loop in most cases\n",
    "def twoPointers(alist):\n",
    "    #creating pointers for the list below:\n",
    "    left = 0\n",
    "    right = len(alist) - 1\n",
    "    while left <= right:\n",
    "        alist[left],alist[right] = alist[right],alist[left]\n",
    "        left += 1\n",
    "        right -= 1\n",
    "    return alist\n",
    "\n",
    "\n",
    "my_list2 = [1,2,3,12,9,8,4,11,22]\n",
    "twoPointers(my_list2)"
   ]
  },
  {
   "cell_type": "markdown",
   "metadata": {},
   "source": [
    "#### Video of Algorithms <br>\n",
    "<p>Watch the video about algorithms.</p>\n",
    "\n",
    "https://www.youtube.com/watch?v=Q9HjeFD62Uk\n",
    "\n",
    "https://www.youtube.com/watch?v=kPRA0W1kECg\n",
    "\n",
    "https://www.youtube.com/watch?v=ZZuD6iUe3Pc"
   ]
  },
  {
   "cell_type": "markdown",
   "metadata": {},
   "source": [
    "# Sorting Algorithms"
   ]
  },
  {
   "cell_type": "markdown",
   "metadata": {},
   "source": [
    "#### Bubble Sort\n",
    "\n",
    "Worst Case: O(n^2) Time - O(1) Space"
   ]
  },
  {
   "cell_type": "code",
   "execution_count": 19,
   "metadata": {},
   "outputs": [
    {
     "data": {
      "text/plain": [
       "[1, 22, 34, 44, 55, 66, 88, 100]"
      ]
     },
     "execution_count": 19,
     "metadata": {},
     "output_type": "execute_result"
    }
   ],
   "source": [
    "# Best Case: O(n) - Linear\n",
    "\n",
    "def swap(i,j, array):\n",
    "    array[i],array[j] = array[j],array[i]\n",
    "    \n",
    "def bubbleSort(array):\n",
    "    isSorted = False\n",
    "    while not isSorted:\n",
    "        isSorted = True\n",
    "        for num in range(len(array) - 1):\n",
    "            if array[num] > array[num + 1]:\n",
    "                swap(num, num + 1, array)\n",
    "                isSorted = False\n",
    "    return array\n",
    "\n",
    "bubbleSort([22,55,88,44,1,100,34,66])"
   ]
  },
  {
   "cell_type": "markdown",
   "metadata": {},
   "source": [
    "##### Insertion Sort\n",
    "\n",
    "Worst Case: O(n^2) time - O(1)space"
   ]
  },
  {
   "cell_type": "code",
   "execution_count": null,
   "metadata": {},
   "outputs": [],
   "source": [
    "def swap(i,j, array):\n",
    "    array[i],array[j] = array[j]array[i]\n",
    "    \n",
    "def insertionSort(array):\n",
    "    for i in range(1,len(array)):\n",
    "        j = i\n",
    "        while j > 0 abd array[j] < array [j - 1]:\n",
    "            sway(j, j - 1, array)\n",
    "            j -= 1\n",
    "    return array\n",
    "\n",
    "insertionSort([22,55,88,44,1,100,34,66])"
   ]
  },
  {
   "cell_type": "markdown",
   "metadata": {},
   "source": [
    "## Merge Sort"
   ]
  },
  {
   "cell_type": "markdown",
   "metadata": {},
   "source": [
    "#### How it Works"
   ]
  },
  {
   "cell_type": "code",
   "execution_count": 38,
   "metadata": {},
   "outputs": [
    {
     "name": "stdout",
     "output_type": "stream",
     "text": [
      "Splitting... [18, 8, 15, 12, 4]\n",
      "Splitting... [18, 8]\n",
      "Splitting... [18]\n",
      "Mering:  [18]\n",
      "Splitting... [8]\n",
      "Mering:  [8]\n",
      "Mering:  [8, 18]\n",
      "Splitting... [15, 12, 4]\n",
      "Splitting... [15]\n",
      "Mering:  [15]\n",
      "Splitting... [12, 4]\n",
      "Splitting... [12]\n",
      "Mering:  [12]\n",
      "Splitting... [4]\n",
      "Mering:  [4]\n",
      "Mering:  [4, 12]\n",
      "Mering:  [4, 12, 15]\n",
      "Mering:  [4, 8, 12, 15, 18]\n"
     ]
    },
    {
     "data": {
      "text/plain": [
       "[4, 8, 12, 15, 18]"
      ]
     },
     "execution_count": 38,
     "metadata": {},
     "output_type": "execute_result"
    }
   ],
   "source": [
    "# Step 1: Split everything into it's own group\n",
    "# Step 2: From left to right merge two groups together\n",
    "# Step 3: While merging, place each item in the correct position within the merged group\n",
    "# Step 4: Continue Steps 3-4 until one group is left\n",
    "\n",
    "from random import randint\n",
    "# used to generate a random list of 5 numbers from 0 to 20\n",
    "nums = [randint(0,20) for i in range(5)]\n",
    "\n",
    "# write merge sort below\n",
    "def mergeSort(alist):\n",
    "    print(\"Splitting...\", alist)\n",
    "    \n",
    "    #Step 1: Divide the array into equal parts (as evenly as possible)\n",
    "    if len(alist) > 1:\n",
    "        mid = len(alist) // 2\n",
    "        lefthalf = alist[:mid]\n",
    "        righthalf = alist[mid:]\n",
    "    \n",
    "        # recursively call mergeSort to perform splits if needed\n",
    "        # Then merge once splits are done\n",
    "        mergeSort(lefthalf)\n",
    "        mergeSort(righthalf)\n",
    "    \n",
    "        # index pointers for our list\n",
    "        i = 0 #pointer for left half\n",
    "        j = 0 #pointer for right half\n",
    "        k = 0 #pointer for main array\n",
    "\n",
    "        # Step 2: Compare the lefthalf and righthalf (with a while loop)\n",
    "        while i < len(lefthalf) and j < len(righthalf):\n",
    "            if lefthalf[i] < righthalf[j]:\n",
    "                alist[k]= lefthalf[i]\n",
    "                i = i + 1\n",
    "            else:\n",
    "                alist[k] = righthalf[j]\n",
    "                j = j + 1\n",
    "            k = k + 1 #Not a part of the if statement which is why it is offset\n",
    "        # Step 3: While merging place items in correct position\n",
    "        while i < len(lefthalf):\n",
    "            alist[k] = lefthalf[i]\n",
    "            i = i + 1\n",
    "            k = k + 1\n",
    "        while j < len(righthalf):\n",
    "            alist[k] = righthalf[j]\n",
    "            j = j + 1\n",
    "            k = k + 1\n",
    "    print(\"Mering: \", alist)\n",
    "    return alist\n",
    "\n",
    "mergeSort(nums)\n",
    "    "
   ]
  },
  {
   "cell_type": "markdown",
   "metadata": {},
   "source": [
    "# Binary Search\n",
    "\n",
    "The Binary Search algorithm works by finding the number in the middle of a given array and comparing it to the target. Given that the array is sorted\n",
    "\n",
    "* The worst case run time for this algorithm is `O(log(n))`"
   ]
  },
  {
   "cell_type": "code",
   "execution_count": 43,
   "metadata": {},
   "outputs": [
    {
     "data": {
      "text/plain": [
       "'The index is...1'"
      ]
     },
     "execution_count": 43,
     "metadata": {},
     "output_type": "execute_result"
    }
   ],
   "source": [
    "# Find midpoint, then look left/right depending on what you're looking for\n",
    "# Less == Left\n",
    "# Greater == Right\n",
    "\n",
    "def binarySearchHelperFunction(array, target, left, right):\n",
    "    while left <= right:\n",
    "        middle = (left + right) // 2\n",
    "        potentialMatch = array[middle]\n",
    "        if target == potentialMatch:\n",
    "            return f\"The index is...{middle}\"\n",
    "        elif target < potentialMatch:\n",
    "            right = middle - 1\n",
    "        else:\n",
    "            left = middle + 1\n",
    "    return -1\n",
    "def binarySearch(array,target):\n",
    "    return binarySearchHelperFunction(array,target,0, len(array)-1)\n",
    "\n",
    "binarySearch([22,44,55,66,88,100],44)"
   ]
  },
  {
   "cell_type": "markdown",
   "metadata": {},
   "source": [
    "# Exercises"
   ]
  },
  {
   "cell_type": "markdown",
   "metadata": {},
   "source": [
    "### Exercise #1 <br>\n",
    "<p>Reverse the list below in-place using an in-place algorithm.<br>For extra credit: Reverse the strings at the same time.</p>"
   ]
  },
  {
   "cell_type": "code",
   "execution_count": 75,
   "metadata": {},
   "outputs": [
    {
     "name": "stdout",
     "output_type": "stream",
     "text": [
      "Before swap: ['this', 'is', 'a', 'sentence', '.']\n",
      "After swap: ['.', 'sentence', 'a', 'is', 'this']\n"
     ]
    }
   ],
   "source": [
    "words = ['this' , 'is', 'a', 'sentence', '.']\n",
    "\n",
    "def swap(alist,x,y,z,a,b):\n",
    "    alist[x],alist[y],alist[z],alist[a],alist[b] = alist[b],alist[a],alist[z],alist[y],alist[x]\n",
    "    #return alist[::-1]\n",
    "\n",
    "print(f\"Before swap: {words}\")\n",
    "\n",
    "swap(words,4,3,2,1,0)\n",
    "\n",
    "print(f\"After swap: {words}\")\n"
   ]
  },
  {
   "cell_type": "markdown",
   "metadata": {},
   "source": [
    "### Exercise #2 <br>\n",
    "<p>Create a function that counts how many distinct words are in the string below, then outputs a dictionary with the words as the key and the value as the amount of times that word appears in the string.<br>Should output:<br>{'a': 5,<br>\n",
    " 'abstract': 1,<br>\n",
    " 'an': 3,<br>\n",
    " 'array': 2, ... etc...</p>"
   ]
  },
  {
   "cell_type": "code",
   "execution_count": 54,
   "metadata": {},
   "outputs": [
    {
     "name": "stdout",
     "output_type": "stream",
     "text": [
      "{'In': 1, 'computing,': 2, 'a': 32, 'hash': 33, 'table': 30, 'map': 24, 'is': 8, 'data': 18, 'structure': 21, 'which': 47, 'implements': 13, 'an': 40, 'associative': 15, 'array': 41, 'abstract': 17, 'type,': 19, 'that': 22, 'can': 51, 'keys': 25, 'to': 35, 'values.': 27, 'A': 28, 'uses': 31, 'function': 34, 'compute': 36, 'index': 38, 'into': 39, 'of': 42, 'buckets': 43, 'or': 44, 'slots': 45, 'from': 46, 'the': 48, 'desired': 49, 'value': 50, 'be': 52, 'found': 53}\n"
     ]
    }
   ],
   "source": [
    "\n",
    "\n",
    "a_text = 'In computing, a hash table hash map is a data structure which implements an associative array abstract data type, a structure that can map keys to values. A hash table uses a hash function to compute an index into an array of buckets or slots from which the desired value can be found'\n",
    "\n",
    "#split it (string method) count the number of times you have seen that value; turn string into something iterable...count the number of times each of those values appear.  for x in list(dict.keys of a=1, a+=1)\n",
    "\n",
    "word = a_text.split(\" \")\n",
    "dict = {}\n",
    "count = 1\n",
    "\n",
    "for p in word:\n",
    "    dict[p] = count\n",
    "\n",
    "    for i in range(0,len(word)):\n",
    "        if i == dict[p]:\n",
    "            count = count + 1\n",
    "\n",
    "\n",
    "print(dict)\n",
    "\n",
    "\n",
    "#lst = ['a','b','c','a','b','c']\n",
    "#dict = {}\n",
    "#for letter in lst:\n",
    "#    dict[letter] = 1\n",
    "#print(dict)\n"
   ]
  },
  {
   "cell_type": "markdown",
   "metadata": {},
   "source": [
    "## Exercise #3\n",
    "\n",
    "Write a program to implement a Linear Search Algorithm. Also in a comment, write the Time Complexity of the following algorithm.\n",
    "\n",
    "#### Hint: Linear Searching will require searching a list for a given number. "
   ]
  },
  {
   "cell_type": "code",
   "execution_count": null,
   "metadata": {},
   "outputs": [],
   "source": [
    "#time complexity of this algorithm.  nums_list is a starting point.. sort everything first then start ur search.  \n",
    "\n",
    "nums_list = [10,23,45,70,11,15]\n",
    "target = 70\n",
    "\n",
    "# If number is not present return -1\n",
    "check a list one by one.\n",
    "\n",
    "for i in range"
   ]
  }
 ],
 "metadata": {
  "kernelspec": {
   "display_name": "Python 3",
   "language": "python",
   "name": "python3"
  },
  "language_info": {
   "codemirror_mode": {
    "name": "ipython",
    "version": 3
   },
   "file_extension": ".py",
   "mimetype": "text/x-python",
   "name": "python",
   "nbconvert_exporter": "python",
   "pygments_lexer": "ipython3",
   "version": "3.8.3"
  }
 },
 "nbformat": 4,
 "nbformat_minor": 2
}
